{
  "nbformat": 4,
  "nbformat_minor": 0,
  "metadata": {
    "colab": {
      "provenance": [],
      "authorship_tag": "ABX9TyMGImidq0DIq3lBz3Igxn13",
      "include_colab_link": true
    },
    "kernelspec": {
      "name": "python3",
      "display_name": "Python 3"
    },
    "language_info": {
      "name": "python"
    }
  },
  "cells": [
    {
      "cell_type": "markdown",
      "metadata": {
        "id": "view-in-github",
        "colab_type": "text"
      },
      "source": [
        "<a href=\"https://colab.research.google.com/github/mostafizur1997/NLP/blob/main/BOW_TFIDF_Word2Vec.ipynb\" target=\"_parent\"><img src=\"https://colab.research.google.com/assets/colab-badge.svg\" alt=\"Open In Colab\"/></a>"
      ]
    },
    {
      "cell_type": "code",
      "execution_count": 1,
      "metadata": {
        "colab": {
          "base_uri": "https://localhost:8080/"
        },
        "id": "98TsehpmGuz9",
        "outputId": "4cc973db-0234-44f0-dbb5-5b6efa251e4d"
      },
      "outputs": [
        {
          "output_type": "stream",
          "name": "stdout",
          "text": [
            "Requirement already satisfied: nltk in /usr/local/lib/python3.10/dist-packages (3.8.1)\n",
            "Requirement already satisfied: click in /usr/local/lib/python3.10/dist-packages (from nltk) (8.1.6)\n",
            "Requirement already satisfied: joblib in /usr/local/lib/python3.10/dist-packages (from nltk) (1.3.2)\n",
            "Requirement already satisfied: regex>=2021.8.3 in /usr/local/lib/python3.10/dist-packages (from nltk) (2023.6.3)\n",
            "Requirement already satisfied: tqdm in /usr/local/lib/python3.10/dist-packages (from nltk) (4.66.0)\n"
          ]
        }
      ],
      "source": [
        "!pip install nltk"
      ]
    },
    {
      "cell_type": "code",
      "source": [
        "paragraph = \"\"\"Sheikh Hasina Wazed (/ˈʃeɪk həˈsiːnə/ SHAYK hə-SEE-nə; Bengali: শেখ হাসিনা ওয়াজেদ, romanized: Śekh Hāsinā Oājed, IPA: [ˈʃeːkʰ ˈɦasina ˈwadʒed]; née Hasina; born 28 September 1947) is a Bangladeshi politician who has served as the prime minister of Bangladesh since January 2009.\n",
        "\n",
        "As the autocratic regime of Hussain Muhammad Ershad came to an end, Hasina, leader of the Awami League (AL), and daughter of the founding father and first president of Bangladesh, Bangabandhu Sheikh Mujibur Rahman, lost the 1991 election to Khaleda Zia, with whom she had collaborated against Ershad.[1][2] As leader of the opposition, Hasina accused Zia's Bangladesh Nationalist Party (BNP) of electoral dishonesty and boycotted the parliament, which was followed by violent demonstrations and political turmoil.[3] Zia resigned to a caretaker government, followed by Hasina becoming prime minister after the June 1996 election. While the country began to experience economic growth and a reduction in poverty, it remained in political tumult during her first term, which ended in July 2001 after an electoral defeat from Zia. This was the first full five-year term for a Bangladeshi prime minister since it became an independent country.\n",
        "\n",
        "During the 2006–2008 political crisis, Hasina was detained on extortion charges. After her release from jail, she won the 2008 election. In 2014, she was re-elected for a third term in an election that was boycotted by the BNP and criticised by international observers. In 2017, after nearly a million Rohingya entered the country, fleeing genocide in Myanmar, Hasina received credit and praise for giving them refuge and assistance. She won her fourth term after the 2018 election, which was marred with violence and criticised by the opposition as being rigged. Having served for a combined total of over 19 years, she is the longest serving prime minister in the history of Bangladesh. As of 31 July 2023, she is the world's longest-serving female head of government in history.[4][5][6]\n",
        "\n",
        "Under her tenure as prime minister, Bangladesh has experienced democratic backsliding. Human Rights Watch documented widespread enforced disappearances and extrajudicial killings under her government. Many politicians and journalists have been systematically and judicially punished for challenging her views.[7][8] In 2021, Reporters Without Borders gave a negative assessment of Hasina's media policy for curbing press freedom in Bangladesh since 2014.[9]\n",
        "\n",
        "She was ranked as the 59th most powerful woman in the world by Forbes magazine in 2015[10] and , 42nd consecutively in 2018 and 2022 .[11][12][13]including the United Nations' Champions of the Earth award in 2015.[14] She was listed among 100 leading global thinkers in 2019.[15]\n",
        "\"\"\""
      ],
      "metadata": {
        "id": "DYIS_fFcG3q6"
      },
      "execution_count": 2,
      "outputs": []
    },
    {
      "cell_type": "code",
      "source": [
        "paragraph"
      ],
      "metadata": {
        "colab": {
          "base_uri": "https://localhost:8080/",
          "height": 218
        },
        "id": "whz0M5OBHe9J",
        "outputId": "83b5d4a8-3ec9-4006-fc00-07bf30917374"
      },
      "execution_count": 3,
      "outputs": [
        {
          "output_type": "execute_result",
          "data": {
            "text/plain": [
              "\"Sheikh Hasina Wazed (/ˈʃeɪk həˈsiːnə/ SHAYK hə-SEE-nə; Bengali: শেখ হাসিনা ওয়াজেদ, romanized: Śekh Hāsinā Oājed, IPA: [ˈʃeːkʰ ˈɦasina ˈwadʒed]; née Hasina; born 28 September 1947) is a Bangladeshi politician who has served as the prime minister of Bangladesh since January 2009.\\n\\nAs the autocratic regime of Hussain Muhammad Ershad came to an end, Hasina, leader of the Awami League (AL), and daughter of the founding father and first president of Bangladesh, Bangabandhu Sheikh Mujibur Rahman, lost the 1991 election to Khaleda Zia, with whom she had collaborated against Ershad.[1][2] As leader of the opposition, Hasina accused Zia's Bangladesh Nationalist Party (BNP) of electoral dishonesty and boycotted the parliament, which was followed by violent demonstrations and political turmoil.[3] Zia resigned to a caretaker government, followed by Hasina becoming prime minister after the June 1996 election. While the country began to experience economic growth and a reduction in poverty, it remained in political tumult during her first term, which ended in July 2001 after an electoral defeat from Zia. This was the first full five-year term for a Bangladeshi prime minister since it became an independent country.\\n\\nDuring the 2006–2008 political crisis, Hasina was detained on extortion charges. After her release from jail, she won the 2008 election. In 2014, she was re-elected for a third term in an election that was boycotted by the BNP and criticised by international observers. In 2017, after nearly a million Rohingya entered the country, fleeing genocide in Myanmar, Hasina received credit and praise for giving them refuge and assistance. She won her fourth term after the 2018 election, which was marred with violence and criticised by the opposition as being rigged. Having served for a combined total of over 19 years, she is the longest serving prime minister in the history of Bangladesh. As of 31 July 2023, she is the world's longest-serving female head of government in history.[4][5][6]\\n\\nUnder her tenure as prime minister, Bangladesh has experienced democratic backsliding. Human Rights Watch documented widespread enforced disappearances and extrajudicial killings under her government. Many politicians and journalists have been systematically and judicially punished for challenging her views.[7][8] In 2021, Reporters Without Borders gave a negative assessment of Hasina's media policy for curbing press freedom in Bangladesh since 2014.[9]\\n\\nShe was ranked as the 59th most powerful woman in the world by Forbes magazine in 2015[10] and , 42nd consecutively in 2018 and 2022 .[11][12][13]including the United Nations' Champions of the Earth award in 2015.[14] She was listed among 100 leading global thinkers in 2019.[15]\\n\""
            ],
            "application/vnd.google.colaboratory.intrinsic+json": {
              "type": "string"
            }
          },
          "metadata": {},
          "execution_count": 3
        }
      ]
    },
    {
      "cell_type": "code",
      "source": [
        "import nltk\n",
        "from nltk.stem import PorterStemmer #stemming purpose\n",
        "from nltk.corpus import stopwords"
      ],
      "metadata": {
        "id": "VBfOQWdwHhMm"
      },
      "execution_count": 4,
      "outputs": []
    },
    {
      "cell_type": "code",
      "source": [
        "### tokenization --- converts paragraph - sentences- words\n",
        "nltk.download('punkt')\n",
        "nltk.download('wordnet')\n",
        "sentences = nltk.sent_tokenize(paragraph)"
      ],
      "metadata": {
        "colab": {
          "base_uri": "https://localhost:8080/"
        },
        "id": "PvWFtyJyHoww",
        "outputId": "a3da5a28-b060-4c29-e04e-67541bce0a38"
      },
      "execution_count": 5,
      "outputs": [
        {
          "output_type": "stream",
          "name": "stderr",
          "text": [
            "[nltk_data] Downloading package punkt to /root/nltk_data...\n",
            "[nltk_data]   Unzipping tokenizers/punkt.zip.\n",
            "[nltk_data] Downloading package wordnet to /root/nltk_data...\n"
          ]
        }
      ]
    },
    {
      "cell_type": "code",
      "source": [
        "print(sentences)"
      ],
      "metadata": {
        "colab": {
          "base_uri": "https://localhost:8080/"
        },
        "id": "9FB4EJyPHtky",
        "outputId": "9beb5cfe-792a-4777-a75e-e9c7cce454af"
      },
      "execution_count": 6,
      "outputs": [
        {
          "output_type": "stream",
          "name": "stdout",
          "text": [
            "['Sheikh Hasina Wazed (/ˈʃeɪk həˈsiːnə/ SHAYK hə-SEE-nə; Bengali: শেখ হাসিনা ওয়াজেদ, romanized: Śekh Hāsinā Oājed, IPA: [ˈʃeːkʰ ˈɦasina ˈwadʒed]; née Hasina; born 28 September 1947) is a Bangladeshi politician who has served as the prime minister of Bangladesh since January 2009.', 'As the autocratic regime of Hussain Muhammad Ershad came to an end, Hasina, leader of the Awami League (AL), and daughter of the founding father and first president of Bangladesh, Bangabandhu Sheikh Mujibur Rahman, lost the 1991 election to Khaleda Zia, with whom she had collaborated against Ershad.', \"[1][2] As leader of the opposition, Hasina accused Zia's Bangladesh Nationalist Party (BNP) of electoral dishonesty and boycotted the parliament, which was followed by violent demonstrations and political turmoil.\", '[3] Zia resigned to a caretaker government, followed by Hasina becoming prime minister after the June 1996 election.', 'While the country began to experience economic growth and a reduction in poverty, it remained in political tumult during her first term, which ended in July 2001 after an electoral defeat from Zia.', 'This was the first full five-year term for a Bangladeshi prime minister since it became an independent country.', 'During the 2006–2008 political crisis, Hasina was detained on extortion charges.', 'After her release from jail, she won the 2008 election.', 'In 2014, she was re-elected for a third term in an election that was boycotted by the BNP and criticised by international observers.', 'In 2017, after nearly a million Rohingya entered the country, fleeing genocide in Myanmar, Hasina received credit and praise for giving them refuge and assistance.', 'She won her fourth term after the 2018 election, which was marred with violence and criticised by the opposition as being rigged.', 'Having served for a combined total of over 19 years, she is the longest serving prime minister in the history of Bangladesh.', \"As of 31 July 2023, she is the world's longest-serving female head of government in history.\", '[4][5][6]\\n\\nUnder her tenure as prime minister, Bangladesh has experienced democratic backsliding.', 'Human Rights Watch documented widespread enforced disappearances and extrajudicial killings under her government.', 'Many politicians and journalists have been systematically and judicially punished for challenging her views.', \"[7][8] In 2021, Reporters Without Borders gave a negative assessment of Hasina's media policy for curbing press freedom in Bangladesh since 2014.\", '[9]\\n\\nShe was ranked as the 59th most powerful woman in the world by Forbes magazine in 2015[10] and , 42nd consecutively in 2018 and 2022 .', \"[11][12][13]including the United Nations' Champions of the Earth award in 2015.\", '[14] She was listed among 100 leading global thinkers in 2019.', '[15]']\n"
          ]
        }
      ]
    },
    {
      "cell_type": "code",
      "source": [
        "#how to apply stemming, find the base root word\n",
        "stemmer = PorterStemmer() #PorterStremmer is used for steeming purpose"
      ],
      "metadata": {
        "id": "LEK5-2veIsai"
      },
      "execution_count": 7,
      "outputs": []
    },
    {
      "cell_type": "code",
      "source": [
        "stemmer.stem('history')"
      ],
      "metadata": {
        "colab": {
          "base_uri": "https://localhost:8080/",
          "height": 36
        },
        "id": "1fl9ZmTnI0qx",
        "outputId": "4094f428-a4bf-4041-be61-d1bf1feb40dc"
      },
      "execution_count": 8,
      "outputs": [
        {
          "output_type": "execute_result",
          "data": {
            "text/plain": [
              "'histori'"
            ],
            "application/vnd.google.colaboratory.intrinsic+json": {
              "type": "string"
            }
          },
          "metadata": {},
          "execution_count": 8
        }
      ]
    },
    {
      "cell_type": "code",
      "source": [
        "stemmer.stem('thinking')"
      ],
      "metadata": {
        "colab": {
          "base_uri": "https://localhost:8080/",
          "height": 36
        },
        "id": "Jx7jnyzuJn2K",
        "outputId": "8e0d38c6-0a2c-4bd8-f702-e26bd24a5a75"
      },
      "execution_count": 9,
      "outputs": [
        {
          "output_type": "execute_result",
          "data": {
            "text/plain": [
              "'think'"
            ],
            "application/vnd.google.colaboratory.intrinsic+json": {
              "type": "string"
            }
          },
          "metadata": {},
          "execution_count": 9
        }
      ]
    },
    {
      "cell_type": "code",
      "source": [
        "stemmer.stem('history')"
      ],
      "metadata": {
        "colab": {
          "base_uri": "https://localhost:8080/",
          "height": 36
        },
        "id": "sy7tSpO9KFwa",
        "outputId": "6d6ebd40-73b7-48bf-dd83-d51c284dd649"
      },
      "execution_count": 10,
      "outputs": [
        {
          "output_type": "execute_result",
          "data": {
            "text/plain": [
              "'histori'"
            ],
            "application/vnd.google.colaboratory.intrinsic+json": {
              "type": "string"
            }
          },
          "metadata": {},
          "execution_count": 10
        }
      ]
    },
    {
      "cell_type": "markdown",
      "source": [
        "#Apply lemmatizer"
      ],
      "metadata": {
        "id": "L831aEj5rEi_"
      }
    },
    {
      "cell_type": "code",
      "source": [
        "from nltk.stem import WordNetLemmatizer"
      ],
      "metadata": {
        "id": "etlF6DUEKNxs"
      },
      "execution_count": 11,
      "outputs": []
    },
    {
      "cell_type": "code",
      "source": [
        "lemmatizer= WordNetLemmatizer() #lemmatizer find out the base word with proper spelling"
      ],
      "metadata": {
        "id": "KGyK00F4KgYK"
      },
      "execution_count": 12,
      "outputs": []
    },
    {
      "cell_type": "code",
      "source": [
        "lemmatizer.lemmatize('history')"
      ],
      "metadata": {
        "colab": {
          "base_uri": "https://localhost:8080/",
          "height": 36
        },
        "id": "AD9HQbsOKxJI",
        "outputId": "52a12749-1be4-41e4-a5a2-e140b25e3dda"
      },
      "execution_count": 13,
      "outputs": [
        {
          "output_type": "execute_result",
          "data": {
            "text/plain": [
              "'history'"
            ],
            "application/vnd.google.colaboratory.intrinsic+json": {
              "type": "string"
            }
          },
          "metadata": {},
          "execution_count": 13
        }
      ]
    },
    {
      "cell_type": "code",
      "source": [
        "lemmatizer.lemmatize('goes')"
      ],
      "metadata": {
        "colab": {
          "base_uri": "https://localhost:8080/",
          "height": 36
        },
        "id": "l88e7UnGK3sJ",
        "outputId": "73262fe7-2973-4538-bc75-f4408058dda8"
      },
      "execution_count": 14,
      "outputs": [
        {
          "output_type": "execute_result",
          "data": {
            "text/plain": [
              "'go'"
            ],
            "application/vnd.google.colaboratory.intrinsic+json": {
              "type": "string"
            }
          },
          "metadata": {},
          "execution_count": 14
        }
      ]
    },
    {
      "cell_type": "code",
      "source": [
        "len(sentences)"
      ],
      "metadata": {
        "colab": {
          "base_uri": "https://localhost:8080/"
        },
        "id": "CMReyPDHe1is",
        "outputId": "11327990-6913-40ad-cd5e-0c27e60ac620"
      },
      "execution_count": 15,
      "outputs": [
        {
          "output_type": "execute_result",
          "data": {
            "text/plain": [
              "21"
            ]
          },
          "metadata": {},
          "execution_count": 15
        }
      ]
    },
    {
      "cell_type": "code",
      "source": [
        "import re #regular expression"
      ],
      "metadata": {
        "id": "q7VIwWBpfgl6"
      },
      "execution_count": 16,
      "outputs": []
    },
    {
      "cell_type": "code",
      "source": [
        "# clean special character from paragraph\n",
        "\n",
        "corpus=[]\n",
        "for i in range(len(sentences)):\n",
        "  review = re.sub('[^a-zA-Z]', ' ', sentences[i])\n",
        "  review =review.lower()\n",
        "  #review = review.split()\n",
        "  corpus.append(review)"
      ],
      "metadata": {
        "id": "fUgv1b7aefi7"
      },
      "execution_count": 17,
      "outputs": []
    },
    {
      "cell_type": "code",
      "source": [
        "corpus"
      ],
      "metadata": {
        "colab": {
          "base_uri": "https://localhost:8080/"
        },
        "id": "xJMpKCmve4Qo",
        "outputId": "6034b0c3-71c7-4065-e479-eb56f56eade3"
      },
      "execution_count": 18,
      "outputs": [
        {
          "output_type": "execute_result",
          "data": {
            "text/plain": [
              "['sheikh hasina wazed     e k h  si n   shayk h  see n   bengali                      romanized   ekh h sin  o jed  ipa     e k    asina  wad ed   n e hasina  born    september       is a bangladeshi politician who has served as the prime minister of bangladesh since january      ',\n",
              " 'as the autocratic regime of hussain muhammad ershad came to an end  hasina  leader of the awami league  al   and daughter of the founding father and first president of bangladesh  bangabandhu sheikh mujibur rahman  lost the      election to khaleda zia  with whom she had collaborated against ershad ',\n",
              " '       as leader of the opposition  hasina accused zia s bangladesh nationalist party  bnp  of electoral dishonesty and boycotted the parliament  which was followed by violent demonstrations and political turmoil ',\n",
              " '    zia resigned to a caretaker government  followed by hasina becoming prime minister after the june      election ',\n",
              " 'while the country began to experience economic growth and a reduction in poverty  it remained in political tumult during her first term  which ended in july      after an electoral defeat from zia ',\n",
              " 'this was the first full five year term for a bangladeshi prime minister since it became an independent country ',\n",
              " 'during the           political crisis  hasina was detained on extortion charges ',\n",
              " 'after her release from jail  she won the      election ',\n",
              " 'in       she was re elected for a third term in an election that was boycotted by the bnp and criticised by international observers ',\n",
              " 'in       after nearly a million rohingya entered the country  fleeing genocide in myanmar  hasina received credit and praise for giving them refuge and assistance ',\n",
              " 'she won her fourth term after the      election  which was marred with violence and criticised by the opposition as being rigged ',\n",
              " 'having served for a combined total of over    years  she is the longest serving prime minister in the history of bangladesh ',\n",
              " 'as of    july       she is the world s longest serving female head of government in history ',\n",
              " '           under her tenure as prime minister  bangladesh has experienced democratic backsliding ',\n",
              " 'human rights watch documented widespread enforced disappearances and extrajudicial killings under her government ',\n",
              " 'many politicians and journalists have been systematically and judicially punished for challenging her views ',\n",
              " '       in       reporters without borders gave a negative assessment of hasina s media policy for curbing press freedom in bangladesh since      ',\n",
              " '     she was ranked as the   th most powerful woman in the world by forbes magazine in          and     nd consecutively in      and       ',\n",
              " '            including the united nations  champions of the earth award in      ',\n",
              " '     she was listed among     leading global thinkers in      ',\n",
              " '    ']"
            ]
          },
          "metadata": {},
          "execution_count": 18
        }
      ]
    },
    {
      "cell_type": "code",
      "source": [
        "nltk.download('stopwords')\n",
        "stopwords.words('english')"
      ],
      "metadata": {
        "colab": {
          "base_uri": "https://localhost:8080/"
        },
        "id": "Js53uo47haMu",
        "outputId": "75159ded-5743-4957-b54f-c33b27a41be4"
      },
      "execution_count": 19,
      "outputs": [
        {
          "output_type": "stream",
          "name": "stderr",
          "text": [
            "[nltk_data] Downloading package stopwords to /root/nltk_data...\n",
            "[nltk_data]   Unzipping corpora/stopwords.zip.\n"
          ]
        },
        {
          "output_type": "execute_result",
          "data": {
            "text/plain": [
              "['i',\n",
              " 'me',\n",
              " 'my',\n",
              " 'myself',\n",
              " 'we',\n",
              " 'our',\n",
              " 'ours',\n",
              " 'ourselves',\n",
              " 'you',\n",
              " \"you're\",\n",
              " \"you've\",\n",
              " \"you'll\",\n",
              " \"you'd\",\n",
              " 'your',\n",
              " 'yours',\n",
              " 'yourself',\n",
              " 'yourselves',\n",
              " 'he',\n",
              " 'him',\n",
              " 'his',\n",
              " 'himself',\n",
              " 'she',\n",
              " \"she's\",\n",
              " 'her',\n",
              " 'hers',\n",
              " 'herself',\n",
              " 'it',\n",
              " \"it's\",\n",
              " 'its',\n",
              " 'itself',\n",
              " 'they',\n",
              " 'them',\n",
              " 'their',\n",
              " 'theirs',\n",
              " 'themselves',\n",
              " 'what',\n",
              " 'which',\n",
              " 'who',\n",
              " 'whom',\n",
              " 'this',\n",
              " 'that',\n",
              " \"that'll\",\n",
              " 'these',\n",
              " 'those',\n",
              " 'am',\n",
              " 'is',\n",
              " 'are',\n",
              " 'was',\n",
              " 'were',\n",
              " 'be',\n",
              " 'been',\n",
              " 'being',\n",
              " 'have',\n",
              " 'has',\n",
              " 'had',\n",
              " 'having',\n",
              " 'do',\n",
              " 'does',\n",
              " 'did',\n",
              " 'doing',\n",
              " 'a',\n",
              " 'an',\n",
              " 'the',\n",
              " 'and',\n",
              " 'but',\n",
              " 'if',\n",
              " 'or',\n",
              " 'because',\n",
              " 'as',\n",
              " 'until',\n",
              " 'while',\n",
              " 'of',\n",
              " 'at',\n",
              " 'by',\n",
              " 'for',\n",
              " 'with',\n",
              " 'about',\n",
              " 'against',\n",
              " 'between',\n",
              " 'into',\n",
              " 'through',\n",
              " 'during',\n",
              " 'before',\n",
              " 'after',\n",
              " 'above',\n",
              " 'below',\n",
              " 'to',\n",
              " 'from',\n",
              " 'up',\n",
              " 'down',\n",
              " 'in',\n",
              " 'out',\n",
              " 'on',\n",
              " 'off',\n",
              " 'over',\n",
              " 'under',\n",
              " 'again',\n",
              " 'further',\n",
              " 'then',\n",
              " 'once',\n",
              " 'here',\n",
              " 'there',\n",
              " 'when',\n",
              " 'where',\n",
              " 'why',\n",
              " 'how',\n",
              " 'all',\n",
              " 'any',\n",
              " 'both',\n",
              " 'each',\n",
              " 'few',\n",
              " 'more',\n",
              " 'most',\n",
              " 'other',\n",
              " 'some',\n",
              " 'such',\n",
              " 'no',\n",
              " 'nor',\n",
              " 'not',\n",
              " 'only',\n",
              " 'own',\n",
              " 'same',\n",
              " 'so',\n",
              " 'than',\n",
              " 'too',\n",
              " 'very',\n",
              " 's',\n",
              " 't',\n",
              " 'can',\n",
              " 'will',\n",
              " 'just',\n",
              " 'don',\n",
              " \"don't\",\n",
              " 'should',\n",
              " \"should've\",\n",
              " 'now',\n",
              " 'd',\n",
              " 'll',\n",
              " 'm',\n",
              " 'o',\n",
              " 're',\n",
              " 've',\n",
              " 'y',\n",
              " 'ain',\n",
              " 'aren',\n",
              " \"aren't\",\n",
              " 'couldn',\n",
              " \"couldn't\",\n",
              " 'didn',\n",
              " \"didn't\",\n",
              " 'doesn',\n",
              " \"doesn't\",\n",
              " 'hadn',\n",
              " \"hadn't\",\n",
              " 'hasn',\n",
              " \"hasn't\",\n",
              " 'haven',\n",
              " \"haven't\",\n",
              " 'isn',\n",
              " \"isn't\",\n",
              " 'ma',\n",
              " 'mightn',\n",
              " \"mightn't\",\n",
              " 'mustn',\n",
              " \"mustn't\",\n",
              " 'needn',\n",
              " \"needn't\",\n",
              " 'shan',\n",
              " \"shan't\",\n",
              " 'shouldn',\n",
              " \"shouldn't\",\n",
              " 'wasn',\n",
              " \"wasn't\",\n",
              " 'weren',\n",
              " \"weren't\",\n",
              " 'won',\n",
              " \"won't\",\n",
              " 'wouldn',\n",
              " \"wouldn't\"]"
            ]
          },
          "metadata": {},
          "execution_count": 19
        }
      ]
    },
    {
      "cell_type": "code",
      "source": [
        "# how to apply stemming\n",
        "for i in corpus:\n",
        "  words = nltk.word_tokenize(i) #make the words from sentences\n",
        "  for word in words:\n",
        "    if word not in set(stopwords.words('english')):\n",
        "      print(stemmer.stem(word))\n"
      ],
      "metadata": {
        "colab": {
          "base_uri": "https://localhost:8080/"
        },
        "id": "zQwWjxKEgWa_",
        "outputId": "65866f83-345d-4b91-e1e6-0361aeeb16a5"
      },
      "execution_count": 20,
      "outputs": [
        {
          "output_type": "stream",
          "name": "stdout",
          "text": [
            "sheikh\n",
            "hasina\n",
            "waze\n",
            "e\n",
            "k\n",
            "h\n",
            "si\n",
            "n\n",
            "shayk\n",
            "h\n",
            "see\n",
            "n\n",
            "bengali\n",
            "roman\n",
            "ekh\n",
            "h\n",
            "sin\n",
            "jed\n",
            "ipa\n",
            "e\n",
            "k\n",
            "asina\n",
            "wad\n",
            "ed\n",
            "n\n",
            "e\n",
            "hasina\n",
            "born\n",
            "septemb\n",
            "bangladeshi\n",
            "politician\n",
            "serv\n",
            "prime\n",
            "minist\n",
            "bangladesh\n",
            "sinc\n",
            "januari\n",
            "autocrat\n",
            "regim\n",
            "hussain\n",
            "muhammad\n",
            "ershad\n",
            "came\n",
            "end\n",
            "hasina\n",
            "leader\n",
            "awami\n",
            "leagu\n",
            "al\n",
            "daughter\n",
            "found\n",
            "father\n",
            "first\n",
            "presid\n",
            "bangladesh\n",
            "bangabandhu\n",
            "sheikh\n",
            "mujibur\n",
            "rahman\n",
            "lost\n",
            "elect\n",
            "khaleda\n",
            "zia\n",
            "collabor\n",
            "ershad\n",
            "leader\n",
            "opposit\n",
            "hasina\n",
            "accus\n",
            "zia\n",
            "bangladesh\n",
            "nationalist\n",
            "parti\n",
            "bnp\n",
            "elector\n",
            "dishonesti\n",
            "boycot\n",
            "parliament\n",
            "follow\n",
            "violent\n",
            "demonstr\n",
            "polit\n",
            "turmoil\n",
            "zia\n",
            "resign\n",
            "caretak\n",
            "govern\n",
            "follow\n",
            "hasina\n",
            "becom\n",
            "prime\n",
            "minist\n",
            "june\n",
            "elect\n",
            "countri\n",
            "began\n",
            "experi\n",
            "econom\n",
            "growth\n",
            "reduct\n",
            "poverti\n",
            "remain\n",
            "polit\n",
            "tumult\n",
            "first\n",
            "term\n",
            "end\n",
            "juli\n",
            "elector\n",
            "defeat\n",
            "zia\n",
            "first\n",
            "full\n",
            "five\n",
            "year\n",
            "term\n",
            "bangladeshi\n",
            "prime\n",
            "minist\n",
            "sinc\n",
            "becam\n",
            "independ\n",
            "countri\n",
            "polit\n",
            "crisi\n",
            "hasina\n",
            "detain\n",
            "extort\n",
            "charg\n",
            "releas\n",
            "jail\n",
            "elect\n",
            "elect\n",
            "third\n",
            "term\n",
            "elect\n",
            "boycot\n",
            "bnp\n",
            "criticis\n",
            "intern\n",
            "observ\n",
            "nearli\n",
            "million\n",
            "rohingya\n",
            "enter\n",
            "countri\n",
            "flee\n",
            "genocid\n",
            "myanmar\n",
            "hasina\n",
            "receiv\n",
            "credit\n",
            "prais\n",
            "give\n",
            "refug\n",
            "assist\n",
            "fourth\n",
            "term\n",
            "elect\n",
            "mar\n",
            "violenc\n",
            "criticis\n",
            "opposit\n",
            "rig\n",
            "serv\n",
            "combin\n",
            "total\n",
            "year\n",
            "longest\n",
            "serv\n",
            "prime\n",
            "minist\n",
            "histori\n",
            "bangladesh\n",
            "juli\n",
            "world\n",
            "longest\n",
            "serv\n",
            "femal\n",
            "head\n",
            "govern\n",
            "histori\n",
            "tenur\n",
            "prime\n",
            "minist\n",
            "bangladesh\n",
            "experienc\n",
            "democrat\n",
            "backslid\n",
            "human\n",
            "right\n",
            "watch\n",
            "document\n",
            "widespread\n",
            "enforc\n",
            "disappear\n",
            "extrajudici\n",
            "kill\n",
            "govern\n",
            "mani\n",
            "politician\n",
            "journalist\n",
            "systemat\n",
            "judici\n",
            "punish\n",
            "challeng\n",
            "view\n",
            "report\n",
            "without\n",
            "border\n",
            "gave\n",
            "neg\n",
            "assess\n",
            "hasina\n",
            "media\n",
            "polici\n",
            "curb\n",
            "press\n",
            "freedom\n",
            "bangladesh\n",
            "sinc\n",
            "rank\n",
            "th\n",
            "power\n",
            "woman\n",
            "world\n",
            "forb\n",
            "magazin\n",
            "nd\n",
            "consecut\n",
            "includ\n",
            "unit\n",
            "nation\n",
            "champion\n",
            "earth\n",
            "award\n",
            "list\n",
            "among\n",
            "lead\n",
            "global\n",
            "thinker\n"
          ]
        }
      ]
    },
    {
      "cell_type": "code",
      "source": [
        "#Apply stopwords. Lemmatize\n",
        "import re\n",
        "corpus = []\n",
        "for i in range(len(sentences)):\n",
        "  review = re.sub('[^a-zA-Z]', ' ', sentences[i])\n",
        "  review = review.lower()\n",
        "  review = review.split()\n",
        "  review = [lemmatizer.lemmatize(word) for word in review if not word in set(stopwords.words('english'))]\n",
        "  review= ' '.join(review)\n",
        "  corpus.append(review)\n",
        "\n"
      ],
      "metadata": {
        "id": "fWLlNEp7l9k9"
      },
      "execution_count": 21,
      "outputs": []
    },
    {
      "cell_type": "code",
      "source": [
        "## lemmatization\n",
        "for i in corpus:\n",
        "  words = nltk.word_tokenize(i)\n",
        "  for word in words:\n",
        "    if word not in set(stopwords.words('english')):\n",
        "      print(lemmatizer.lemmatize(word))"
      ],
      "metadata": {
        "colab": {
          "base_uri": "https://localhost:8080/"
        },
        "id": "90tr5Cpeg3gr",
        "outputId": "df9e10cb-186f-4427-879c-50a1c57251e9"
      },
      "execution_count": 22,
      "outputs": [
        {
          "output_type": "stream",
          "name": "stdout",
          "text": [
            "sheikh\n",
            "hasina\n",
            "wazed\n",
            "e\n",
            "k\n",
            "h\n",
            "si\n",
            "n\n",
            "shayk\n",
            "h\n",
            "see\n",
            "n\n",
            "bengali\n",
            "romanized\n",
            "ekh\n",
            "h\n",
            "sin\n",
            "jed\n",
            "ipa\n",
            "e\n",
            "k\n",
            "asina\n",
            "wad\n",
            "ed\n",
            "n\n",
            "e\n",
            "hasina\n",
            "born\n",
            "september\n",
            "bangladeshi\n",
            "politician\n",
            "served\n",
            "prime\n",
            "minister\n",
            "bangladesh\n",
            "since\n",
            "january\n",
            "autocratic\n",
            "regime\n",
            "hussain\n",
            "muhammad\n",
            "ershad\n",
            "came\n",
            "end\n",
            "hasina\n",
            "leader\n",
            "awami\n",
            "league\n",
            "al\n",
            "daughter\n",
            "founding\n",
            "father\n",
            "first\n",
            "president\n",
            "bangladesh\n",
            "bangabandhu\n",
            "sheikh\n",
            "mujibur\n",
            "rahman\n",
            "lost\n",
            "election\n",
            "khaleda\n",
            "zia\n",
            "collaborated\n",
            "ershad\n",
            "leader\n",
            "opposition\n",
            "hasina\n",
            "accused\n",
            "zia\n",
            "bangladesh\n",
            "nationalist\n",
            "party\n",
            "bnp\n",
            "electoral\n",
            "dishonesty\n",
            "boycotted\n",
            "parliament\n",
            "followed\n",
            "violent\n",
            "demonstration\n",
            "political\n",
            "turmoil\n",
            "zia\n",
            "resigned\n",
            "caretaker\n",
            "government\n",
            "followed\n",
            "hasina\n",
            "becoming\n",
            "prime\n",
            "minister\n",
            "june\n",
            "election\n",
            "country\n",
            "began\n",
            "experience\n",
            "economic\n",
            "growth\n",
            "reduction\n",
            "poverty\n",
            "remained\n",
            "political\n",
            "tumult\n",
            "first\n",
            "term\n",
            "ended\n",
            "july\n",
            "electoral\n",
            "defeat\n",
            "zia\n",
            "first\n",
            "full\n",
            "five\n",
            "year\n",
            "term\n",
            "bangladeshi\n",
            "prime\n",
            "minister\n",
            "since\n",
            "became\n",
            "independent\n",
            "country\n",
            "political\n",
            "crisis\n",
            "hasina\n",
            "detained\n",
            "extortion\n",
            "charge\n",
            "release\n",
            "jail\n",
            "election\n",
            "elected\n",
            "third\n",
            "term\n",
            "election\n",
            "boycotted\n",
            "bnp\n",
            "criticised\n",
            "international\n",
            "observer\n",
            "nearly\n",
            "million\n",
            "rohingya\n",
            "entered\n",
            "country\n",
            "fleeing\n",
            "genocide\n",
            "myanmar\n",
            "hasina\n",
            "received\n",
            "credit\n",
            "praise\n",
            "giving\n",
            "refuge\n",
            "assistance\n",
            "fourth\n",
            "term\n",
            "election\n",
            "marred\n",
            "violence\n",
            "criticised\n",
            "opposition\n",
            "rigged\n",
            "served\n",
            "combined\n",
            "total\n",
            "year\n",
            "longest\n",
            "serving\n",
            "prime\n",
            "minister\n",
            "history\n",
            "bangladesh\n",
            "july\n",
            "world\n",
            "longest\n",
            "serving\n",
            "female\n",
            "head\n",
            "government\n",
            "history\n",
            "tenure\n",
            "prime\n",
            "minister\n",
            "bangladesh\n",
            "experienced\n",
            "democratic\n",
            "backsliding\n",
            "human\n",
            "right\n",
            "watch\n",
            "documented\n",
            "widespread\n",
            "enforced\n",
            "disappearance\n",
            "extrajudicial\n",
            "killing\n",
            "government\n",
            "many\n",
            "politician\n",
            "journalist\n",
            "systematically\n",
            "judicially\n",
            "punished\n",
            "challenging\n",
            "view\n",
            "reporter\n",
            "without\n",
            "border\n",
            "gave\n",
            "negative\n",
            "assessment\n",
            "hasina\n",
            "medium\n",
            "policy\n",
            "curbing\n",
            "press\n",
            "freedom\n",
            "bangladesh\n",
            "since\n",
            "ranked\n",
            "th\n",
            "powerful\n",
            "woman\n",
            "world\n",
            "forbes\n",
            "magazine\n",
            "nd\n",
            "consecutively\n",
            "including\n",
            "united\n",
            "nation\n",
            "champion\n",
            "earth\n",
            "award\n",
            "listed\n",
            "among\n",
            "leading\n",
            "global\n",
            "thinker\n"
          ]
        }
      ]
    },
    {
      "cell_type": "code",
      "source": [
        "# bag of words\n",
        "from sklearn.feature_extraction.text import CountVectorizer\n",
        "cv= CountVectorizer(binary =True)"
      ],
      "metadata": {
        "id": "SjR6D7sMi_Q2"
      },
      "execution_count": 23,
      "outputs": []
    },
    {
      "cell_type": "code",
      "source": [
        "X= cv.fit_transform(corpus)"
      ],
      "metadata": {
        "id": "Twww0LUcjmnv"
      },
      "execution_count": 24,
      "outputs": []
    },
    {
      "cell_type": "code",
      "source": [
        "cv.vocabulary_ #see all the vocabulary"
      ],
      "metadata": {
        "colab": {
          "base_uri": "https://localhost:8080/"
        },
        "id": "NE-Y9JeyjzcK",
        "outputId": "ab47addb-9581-4804-b363-d8f15d66c1cf"
      },
      "execution_count": 25,
      "outputs": [
        {
          "output_type": "execute_result",
          "data": {
            "text/plain": [
              "{'sheikh': 146,\n",
              " 'hasina': 75,\n",
              " 'wazed': 165,\n",
              " 'si': 147,\n",
              " 'shayk': 145,\n",
              " 'see': 141,\n",
              " 'bengali': 16,\n",
              " 'romanized': 140,\n",
              " 'ekh': 45,\n",
              " 'sin': 148,\n",
              " 'jed': 86,\n",
              " 'ipa': 83,\n",
              " 'asina': 3,\n",
              " 'wad': 163,\n",
              " 'ed': 44,\n",
              " 'born': 19,\n",
              " 'september': 142,\n",
              " 'bangladeshi': 12,\n",
              " 'politician': 119,\n",
              " 'served': 143,\n",
              " 'prime': 125,\n",
              " 'minister': 104,\n",
              " 'bangladesh': 11,\n",
              " 'since': 149,\n",
              " 'january': 85,\n",
              " 'autocratic': 6,\n",
              " 'regime': 132,\n",
              " 'hussain': 79,\n",
              " 'muhammad': 105,\n",
              " 'ershad': 53,\n",
              " 'came': 21,\n",
              " 'end': 49,\n",
              " 'leader': 93,\n",
              " 'awami': 7,\n",
              " 'league': 95,\n",
              " 'al': 1,\n",
              " 'daughter': 34,\n",
              " 'founding': 65,\n",
              " 'father': 58,\n",
              " 'first': 60,\n",
              " 'president': 123,\n",
              " 'bangabandhu': 10,\n",
              " 'mujibur': 106,\n",
              " 'rahman': 127,\n",
              " 'lost': 98,\n",
              " 'election': 47,\n",
              " 'khaleda': 91,\n",
              " 'zia': 171,\n",
              " 'collaborated': 26,\n",
              " 'opposition': 114,\n",
              " 'accused': 0,\n",
              " 'nationalist': 109,\n",
              " 'party': 116,\n",
              " 'bnp': 17,\n",
              " 'electoral': 48,\n",
              " 'dishonesty': 40,\n",
              " 'boycotted': 20,\n",
              " 'parliament': 115,\n",
              " 'followed': 63,\n",
              " 'violent': 162,\n",
              " 'demonstration': 37,\n",
              " 'political': 118,\n",
              " 'turmoil': 158,\n",
              " 'resigned': 136,\n",
              " 'caretaker': 22,\n",
              " 'government': 73,\n",
              " 'becoming': 14,\n",
              " 'june': 90,\n",
              " 'country': 29,\n",
              " 'began': 15,\n",
              " 'experience': 54,\n",
              " 'economic': 43,\n",
              " 'growth': 74,\n",
              " 'reduction': 130,\n",
              " 'poverty': 120,\n",
              " 'remained': 134,\n",
              " 'tumult': 157,\n",
              " 'term': 152,\n",
              " 'ended': 50,\n",
              " 'july': 89,\n",
              " 'defeat': 35,\n",
              " 'full': 68,\n",
              " 'five': 61,\n",
              " 'year': 170,\n",
              " 'became': 13,\n",
              " 'independent': 81,\n",
              " 'crisis': 31,\n",
              " 'detained': 38,\n",
              " 'extortion': 56,\n",
              " 'charge': 25,\n",
              " 'release': 133,\n",
              " 'jail': 84,\n",
              " 'elected': 46,\n",
              " 'third': 155,\n",
              " 'criticised': 32,\n",
              " 'international': 82,\n",
              " 'observer': 113,\n",
              " 'nearly': 111,\n",
              " 'million': 103,\n",
              " 'rohingya': 139,\n",
              " 'entered': 52,\n",
              " 'fleeing': 62,\n",
              " 'genocide': 70,\n",
              " 'myanmar': 107,\n",
              " 'received': 129,\n",
              " 'credit': 30,\n",
              " 'praise': 122,\n",
              " 'giving': 71,\n",
              " 'refuge': 131,\n",
              " 'assistance': 5,\n",
              " 'fourth': 66,\n",
              " 'marred': 101,\n",
              " 'violence': 161,\n",
              " 'rigged': 137,\n",
              " 'combined': 27,\n",
              " 'total': 156,\n",
              " 'longest': 97,\n",
              " 'serving': 144,\n",
              " 'history': 77,\n",
              " 'world': 169,\n",
              " 'female': 59,\n",
              " 'head': 76,\n",
              " 'tenure': 151,\n",
              " 'experienced': 55,\n",
              " 'democratic': 36,\n",
              " 'backsliding': 9,\n",
              " 'human': 78,\n",
              " 'right': 138,\n",
              " 'watch': 164,\n",
              " 'documented': 41,\n",
              " 'widespread': 166,\n",
              " 'enforced': 51,\n",
              " 'disappearance': 39,\n",
              " 'extrajudicial': 57,\n",
              " 'killing': 92,\n",
              " 'many': 100,\n",
              " 'journalist': 87,\n",
              " 'systematically': 150,\n",
              " 'judicially': 88,\n",
              " 'punished': 126,\n",
              " 'challenging': 23,\n",
              " 'view': 160,\n",
              " 'reporter': 135,\n",
              " 'without': 167,\n",
              " 'border': 18,\n",
              " 'gave': 69,\n",
              " 'negative': 112,\n",
              " 'assessment': 4,\n",
              " 'medium': 102,\n",
              " 'policy': 117,\n",
              " 'curbing': 33,\n",
              " 'press': 124,\n",
              " 'freedom': 67,\n",
              " 'ranked': 128,\n",
              " 'th': 153,\n",
              " 'powerful': 121,\n",
              " 'woman': 168,\n",
              " 'forbes': 64,\n",
              " 'magazine': 99,\n",
              " 'nd': 110,\n",
              " 'consecutively': 28,\n",
              " 'including': 80,\n",
              " 'united': 159,\n",
              " 'nation': 108,\n",
              " 'champion': 24,\n",
              " 'earth': 42,\n",
              " 'award': 8,\n",
              " 'listed': 96,\n",
              " 'among': 2,\n",
              " 'leading': 94,\n",
              " 'global': 72,\n",
              " 'thinker': 154}"
            ]
          },
          "metadata": {},
          "execution_count": 25
        }
      ]
    },
    {
      "cell_type": "code",
      "source": [
        "corpus[0]"
      ],
      "metadata": {
        "colab": {
          "base_uri": "https://localhost:8080/",
          "height": 72
        },
        "id": "evhANje9j9kb",
        "outputId": "96279142-2e19-4651-a369-65cb9d6a6c3e"
      },
      "execution_count": 26,
      "outputs": [
        {
          "output_type": "execute_result",
          "data": {
            "text/plain": [
              "'sheikh hasina wazed e k h si n shayk h see n bengali romanized ekh h sin jed ipa e k asina wad ed n e hasina born september bangladeshi politician served prime minister bangladesh since january'"
            ],
            "application/vnd.google.colaboratory.intrinsic+json": {
              "type": "string"
            }
          },
          "metadata": {},
          "execution_count": 26
        }
      ]
    },
    {
      "cell_type": "code",
      "source": [
        "X[0].toarray()"
      ],
      "metadata": {
        "colab": {
          "base_uri": "https://localhost:8080/"
        },
        "id": "_AF8YTCCkvUE",
        "outputId": "58def7b6-568a-4f26-e69f-2de936988ff2"
      },
      "execution_count": 27,
      "outputs": [
        {
          "output_type": "execute_result",
          "data": {
            "text/plain": [
              "array([[0, 0, 0, 1, 0, 0, 0, 0, 0, 0, 0, 1, 1, 0, 0, 0, 1, 0, 0, 1, 0, 0,\n",
              "        0, 0, 0, 0, 0, 0, 0, 0, 0, 0, 0, 0, 0, 0, 0, 0, 0, 0, 0, 0, 0, 0,\n",
              "        1, 1, 0, 0, 0, 0, 0, 0, 0, 0, 0, 0, 0, 0, 0, 0, 0, 0, 0, 0, 0, 0,\n",
              "        0, 0, 0, 0, 0, 0, 0, 0, 0, 1, 0, 0, 0, 0, 0, 0, 0, 1, 0, 1, 1, 0,\n",
              "        0, 0, 0, 0, 0, 0, 0, 0, 0, 0, 0, 0, 0, 0, 0, 0, 1, 0, 0, 0, 0, 0,\n",
              "        0, 0, 0, 0, 0, 0, 0, 0, 0, 1, 0, 0, 0, 0, 0, 1, 0, 0, 0, 0, 0, 0,\n",
              "        0, 0, 0, 0, 0, 0, 0, 0, 1, 1, 1, 1, 0, 1, 1, 1, 1, 1, 0, 0, 0, 0,\n",
              "        0, 0, 0, 0, 0, 0, 0, 0, 0, 1, 0, 1, 0, 0, 0, 0, 0, 0]])"
            ]
          },
          "metadata": {},
          "execution_count": 27
        }
      ]
    },
    {
      "cell_type": "markdown",
      "source": [
        "#TFIDF"
      ],
      "metadata": {
        "id": "Fptc27nSUars"
      }
    },
    {
      "cell_type": "code",
      "source": [
        "\n",
        "from sklearn.feature_extraction.text import TfidfVectorizer\n",
        "cv= TfidfVectorizer(ngram_range=(1,1), max_features =3) #we are going to get used the maximum frequency words in max_features which one findout top 3 max_feature\n",
        "X= cv.fit_transform(corpus)"
      ],
      "metadata": {
        "id": "oMA_F7M_lQWW"
      },
      "execution_count": 28,
      "outputs": []
    },
    {
      "cell_type": "code",
      "source": [
        "corpus[0]"
      ],
      "metadata": {
        "colab": {
          "base_uri": "https://localhost:8080/",
          "height": 72
        },
        "id": "x4L03hgmUVFz",
        "outputId": "b243dc7b-2017-4565-af20-9220d44a3877"
      },
      "execution_count": 29,
      "outputs": [
        {
          "output_type": "execute_result",
          "data": {
            "text/plain": [
              "'sheikh hasina wazed e k h si n shayk h see n bengali romanized ekh h sin jed ipa e k asina wad ed n e hasina born september bangladeshi politician served prime minister bangladesh since january'"
            ],
            "application/vnd.google.colaboratory.intrinsic+json": {
              "type": "string"
            }
          },
          "metadata": {},
          "execution_count": 29
        }
      ]
    },
    {
      "cell_type": "code",
      "source": [
        "X[0].toarray()"
      ],
      "metadata": {
        "id": "HeCU7icqWpXz",
        "outputId": "37acb2c6-75e4-4524-ee3d-096d559ab3de",
        "colab": {
          "base_uri": "https://localhost:8080/"
        }
      },
      "execution_count": 30,
      "outputs": [
        {
          "output_type": "execute_result",
          "data": {
            "text/plain": [
              "array([[0.47048999, 0.        , 0.88240533]])"
            ]
          },
          "metadata": {},
          "execution_count": 30
        }
      ]
    },
    {
      "cell_type": "code",
      "source": [],
      "metadata": {
        "id": "oLPiLj2-SRqs"
      },
      "execution_count": 30,
      "outputs": []
    }
  ]
}